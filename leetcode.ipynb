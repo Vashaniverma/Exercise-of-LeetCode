{
 "cells": [
  {
   "cell_type": "markdown",
   "id": "103acf41",
   "metadata": {},
   "source": [
    "# two sum"
   ]
  },
  {
   "cell_type": "code",
   "execution_count": 2,
   "id": "f5452da3",
   "metadata": {},
   "outputs": [
    {
     "name": "stdout",
     "output_type": "stream",
     "text": [
      "[0, 1]\n"
     ]
    }
   ],
   "source": [
    "class Solution(object):\n",
    "    def twoSum(self, nums, target):\n",
    "        for i in range(len(nums)-1):\n",
    "            for j in range(i+1,len(nums)):\n",
    "                if nums[i]+nums[j]==target:\n",
    "                    return([i,j])\n",
    "a=Solution()\n",
    "b=a.twoSum([2,7,11,15],9)\n",
    "print(b)"
   ]
  },
  {
   "cell_type": "markdown",
   "id": "f655625c",
   "metadata": {},
   "source": [
    "# palindrome of number"
   ]
  },
  {
   "cell_type": "code",
   "execution_count": 4,
   "id": "6c2cbdd6",
   "metadata": {},
   "outputs": [
    {
     "name": "stdout",
     "output_type": "stream",
     "text": [
      "enter the number\n",
      "121\n",
      "true\n"
     ]
    }
   ],
   "source": [
    "x=int(input(\"enter the number\\n\"))\n",
    "if(x<0):\n",
    "    print(\"false\")\n",
    "else:\n",
    "    a=str(x)\n",
    "    a=a[::-1]\n",
    "    a=int(a)\n",
    "\n",
    "    if(a==x):\n",
    "      print(\"true\")\n",
    "    else:\n",
    "      print(\"false\")"
   ]
  },
  {
   "cell_type": "markdown",
   "id": "286d2e18",
   "metadata": {},
   "source": [
    "#     #swap first and last element"
   ]
  },
  {
   "cell_type": "code",
   "execution_count": 5,
   "id": "cd1d8e42",
   "metadata": {},
   "outputs": [
    {
     "name": "stdout",
     "output_type": "stream",
     "text": [
      "[24, 35, 9, 56, 12]\n"
     ]
    }
   ],
   "source": [
    "def swapList(a):\n",
    "    b=len(a)\n",
    "    \n",
    "    temp=a[0]\n",
    "    a[0]=a[b-1]\n",
    "    a[b-1]=temp\n",
    "    \n",
    "    return a\n",
    "a=[12,35,9,56,24]\n",
    "print(swapList(a))"
   ]
  },
  {
   "cell_type": "markdown",
   "id": "c7b0e943",
   "metadata": {},
   "source": [
    "# ROMAN SYMBOL CONVERT INTO INTEGER"
   ]
  },
  {
   "cell_type": "code",
   "execution_count": 1,
   "id": "14cf6942",
   "metadata": {},
   "outputs": [
    {
     "name": "stdout",
     "output_type": "stream",
     "text": [
      "enter the roman symbolMCMXCIV\n",
      "1994\n"
     ]
    }
   ],
   "source": [
    "s=input(\"enter the roman symbol\")\n",
    "roman={\"I\":1,\"V\":5,\"X\":10,\"L\":50,\"C\":100,\"D\":500,\"M\":1000}\n",
    "res=0\n",
    "for i in range(len(s)):\n",
    "    if(i+1<len(s) and roman[s[i]]<roman[s[i+1]]):\n",
    "        res-=roman[s[i]]\n",
    "    else:\n",
    "        res+=roman[s[i]]\n",
    "\n",
    "print(res)"
   ]
  },
  {
   "cell_type": "markdown",
   "id": "5ba355fd",
   "metadata": {},
   "source": [
    "# MINIMUM COMMON VALUE\n",
    "\n"
   ]
  },
  {
   "cell_type": "code",
   "execution_count": 1,
   "id": "4fd28190",
   "metadata": {},
   "outputs": [
    {
     "name": "stdout",
     "output_type": "stream",
     "text": [
      "2\n"
     ]
    }
   ],
   "source": [
    "class Solution(object):\n",
    "    def getCommon(self, nums1, nums2):\n",
    "        a=[]\n",
    "        for i in nums1:\n",
    "            for j in nums2:\n",
    "                if(i==j):\n",
    "                    a.append(i)\n",
    "        a=list(set(a))\n",
    "        a.sort()\n",
    "        r=a[0]\n",
    "        return r\n",
    "A=Solution()\n",
    "b=A.getCommon([1,2,3,6],[2,3,4,5])\n",
    "print(b)"
   ]
  },
  {
   "cell_type": "code",
   "execution_count": 1,
   "id": "85e8f55e",
   "metadata": {},
   "outputs": [
    {
     "name": "stdout",
     "output_type": "stream",
     "text": [
      "2\n"
     ]
    }
   ],
   "source": [
    "class Solution(object):\n",
    "    def getCommon(self, nums1, nums2):\n",
    "        nums1=set(nums1)\n",
    "        nums2=set(nums2)\n",
    "        common_element=list(nums1&nums2)\n",
    "        common_element.sort()\n",
    "        r=common_element[0]\n",
    "        return r\n",
    "A=Solution()\n",
    "b=A.getCommon([1,2,3,6],[2,3,4,5])\n",
    "print(b)"
   ]
  },
  {
   "cell_type": "markdown",
   "id": "28b02876",
   "metadata": {},
   "source": [
    "# coustom sort string"
   ]
  },
  {
   "cell_type": "code",
   "execution_count": null,
   "id": "c5306685",
   "metadata": {},
   "outputs": [],
   "source": [
    "class Solution(object):\n",
    "    def customSortString(self, order, s):\n",
    "        \"\"\"\n",
    "        :type order: str\n",
    "        :type s: str\n",
    "        :rtype: str\n",
    "        \"\"\"\n",
    "        \n",
    "        order_dic={ char:i for i,char in enumerate(order)}\n",
    "        sorted_s=sorted(s,key=lambda x: order_dic.get(x,float('inf')))\n",
    "        result=''.join(sorted_s)\n",
    "        return result\n",
    "A=Solution()\n",
    "B=A.customSortString(\"cba\",\"abcd\")\n",
    "print(B)"
   ]
  },
  {
   "cell_type": "markdown",
   "id": "ae6bc882",
   "metadata": {},
   "source": [
    "# find the Pivot Integer"
   ]
  },
  {
   "cell_type": "code",
   "execution_count": 5,
   "id": "fa6c1de8",
   "metadata": {},
   "outputs": [
    {
     "name": "stdout",
     "output_type": "stream",
     "text": [
      "6\n"
     ]
    }
   ],
   "source": [
    "import math \n",
    "class Solution(object):\n",
    "    def pivotInteger(self, n):\n",
    "        \"\"\"\n",
    "        :type n: int\n",
    "        :rtype: int\n",
    "        \"\"\"\n",
    "        \n",
    "\n",
    "        y = (n * n + n) // 2\n",
    "        x = int(math.sqrt(y))\n",
    "        return x if x * x == y else -1\n",
    "a=Solution()\n",
    "b=a.pivotInteger(8)\n",
    "print(b)"
   ]
  },
  {
   "cell_type": "code",
   "execution_count": null,
   "id": "71da4957",
   "metadata": {},
   "outputs": [],
   "source": []
  }

 ],
 "metadata": {
  "kernelspec": {
   "display_name": "Python 3 (ipykernel)",
   "language": "python",
   "name": "python3"
  },
  "language_info": {
   "codemirror_mode": {
    "name": "ipython",
    "version": 3
   },
   "file_extension": ".py",
   "mimetype": "text/x-python",
   "name": "python",
   "nbconvert_exporter": "python",
   "pygments_lexer": "ipython3",
   "version": "3.11.4"
  }
 },
 "nbformat": 4,
 "nbformat_minor": 5
}
